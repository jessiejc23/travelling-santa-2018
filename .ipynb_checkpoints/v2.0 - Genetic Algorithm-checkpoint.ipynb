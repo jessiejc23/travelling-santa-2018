{
 "cells": [
  {
   "cell_type": "code",
   "execution_count": 1,
   "metadata": {},
   "outputs": [],
   "source": [
    "import numpy as np\n",
    "import pandas as pd\n",
    "import random\n",
    "import operator\n",
    "import matplotlib.pyplot as plt\n",
    "import time"
   ]
  },
  {
   "cell_type": "code",
   "execution_count": 2,
   "metadata": {},
   "outputs": [],
   "source": [
    "class City:\n",
    "    def __init__(self, x, y):\n",
    "        self.x = x\n",
    "        self.y = y\n",
    "        \n",
    "    def distance(self, city):\n",
    "        xDis = abs(self.x - city.x)\n",
    "        yDis = abs(self.y - city.y)\n",
    "        distance = np.sqrt((xDis **2) + (yDis**2))\n",
    "        return distance\n",
    "    \n",
    "    def __repr__(self):\n",
    "        return \"(\" + str(self.x) + \",\" + str(self.y) + \")\""
   ]
  },
  {
   "cell_type": "code",
   "execution_count": 3,
   "metadata": {},
   "outputs": [],
   "source": [
    "class Fitness:\n",
    "    def __init__(self, route):\n",
    "        self.route = route\n",
    "        self.distance = 0\n",
    "        self.fitness = 0.0\n",
    "    \n",
    "    def routeDistance(self):\n",
    "        if self.distance == 0:\n",
    "            pathDistance = 0\n",
    "            \n",
    "            for i in range(0, len(self.route)):\n",
    "                fromCity = self.route[i]\n",
    "                toCity = None\n",
    "                \n",
    "                if i+1 < len(self.route):\n",
    "                    toCity = self.route[i+1]\n",
    "                else:\n",
    "                    toCity = self.route[0]\n",
    "                \n",
    "                pathDistance += fromCity.distance(toCity)\n",
    "            \n",
    "            self.distance = pathDistance\n",
    "            return self.distance \n",
    "    \n",
    "    def routeFitness(self):\n",
    "        if self.fitness == 0:\n",
    "            self.fitness = 1/float(self.routeDistance())\n",
    "        return self.fitness"
   ]
  },
  {
   "cell_type": "code",
   "execution_count": 4,
   "metadata": {},
   "outputs": [],
   "source": [
    "def createRoute(cityList):\n",
    "    route = random.sample(cityList, len(cityList))\n",
    "    return route\n",
    "\n",
    "def initialPopulation(popSize, cityList):\n",
    "    population = []\n",
    "    \n",
    "    for i in range(0, popSize):\n",
    "        population.append(createRoute(cityList))\n",
    "        \n",
    "    return population"
   ]
  },
  {
   "cell_type": "code",
   "execution_count": 5,
   "metadata": {},
   "outputs": [],
   "source": [
    "def rankRoutes(population):\n",
    "    fitnessResults = {}\n",
    "    \n",
    "    for i in range(0, len(population)):\n",
    "        fitnessResults[i] = Fitness(population[i]).routeFitness()\n",
    "    \n",
    "    print(fitnessResults)\n",
    "    \n",
    "    return sorted(fitnessResults.items(), key = operator.itemgetter(1), reverse=True)"
   ]
  },
  {
   "cell_type": "code",
   "execution_count": 6,
   "metadata": {},
   "outputs": [],
   "source": [
    "def selection(popRanked, eliteSize):\n",
    "    selectionResults = []\n",
    "    df = pd.DataFrame(np.array(popRanked), columns=[\"Index\",\"Fitness\"])\n",
    "    df['cum_sum'] = df.Fitness.cumsum()\n",
    "    df['cum_perc'] = 100*df.cum_sum/df.Fitness.sum()\n",
    "    \n",
    "    for i in range(0, eliteSize):\n",
    "        selectionResults.append(popRanked[i][0])\n",
    "    for i in range(0, len(popRanked) - eliteSize):\n",
    "        pick = 100*random.random()\n",
    "        for i in range(0, len(popRanked)):\n",
    "            if pick <= df.iat[i,3]:\n",
    "                selectionResults.append(popRanked[i][0])\n",
    "                break\n",
    "    return selectionResults"
   ]
  },
  {
   "cell_type": "code",
   "execution_count": 7,
   "metadata": {},
   "outputs": [],
   "source": [
    "def matingPool(population, selectionResults):\n",
    "    matingpool = []\n",
    "    for i in range(0, len(selectionResults)):\n",
    "        index = selectionResults[i]\n",
    "        matingpool.append(population[index])\n",
    "    return matingpool"
   ]
  },
  {
   "cell_type": "code",
   "execution_count": 8,
   "metadata": {},
   "outputs": [],
   "source": [
    "def breed(parent1, parent2):\n",
    "    child = []\n",
    "    childP1 = []\n",
    "    childP2 = []\n",
    "    \n",
    "    geneA = int(random.random() * len(parent1))\n",
    "    geneB = int(random.random() * len(parent1))\n",
    "    \n",
    "    startGene = min(geneA, geneB)\n",
    "    endGene = max(geneA, geneB)\n",
    "\n",
    "    for i in range(startGene, endGene):\n",
    "        childP1.append(parent1[i])\n",
    "        \n",
    "    childP2 = [item for item in parent2 if item not in childP1]\n",
    "\n",
    "    child = childP1 + childP2\n",
    "    return child"
   ]
  },
  {
   "cell_type": "code",
   "execution_count": 9,
   "metadata": {},
   "outputs": [],
   "source": [
    "def breedPopulation(matingpool, eliteSize):\n",
    "    children = []\n",
    "    length = len(matingpool) - eliteSize\n",
    "    pool = random.sample(matingpool, len(matingpool))\n",
    "\n",
    "    for i in range(0,eliteSize):\n",
    "        children.append(matingpool[i])\n",
    "    \n",
    "    for i in range(0, length):\n",
    "        child = breed(pool[i], pool[len(matingpool)-i-1])\n",
    "        children.append(child)\n",
    "    return children"
   ]
  },
  {
   "cell_type": "code",
   "execution_count": 10,
   "metadata": {},
   "outputs": [],
   "source": [
    "def mutate(individual, mutationRate):\n",
    "    for swapped in range(len(individual)):\n",
    "        if(random.random() < mutationRate):\n",
    "            swapWith = int(random.random() * len(individual))\n",
    "            \n",
    "            city1 = individual[swapped]\n",
    "            city2 = individual[swapWith]\n",
    "            \n",
    "            individual[swapped] = city2\n",
    "            individual[swapWith] = city1\n",
    "    return individual"
   ]
  },
  {
   "cell_type": "code",
   "execution_count": 11,
   "metadata": {},
   "outputs": [],
   "source": [
    "def mutatePopulation(population, mutationRate):\n",
    "    mutatedPop = []\n",
    "    \n",
    "    for ind in range(0, len(population)):\n",
    "        mutatedInd = mutate(population[ind], mutationRate)\n",
    "        mutatedPop.append(mutatedInd)\n",
    "    return mutatedPop"
   ]
  },
  {
   "cell_type": "code",
   "execution_count": 12,
   "metadata": {},
   "outputs": [],
   "source": [
    "def nextGeneration(currentGen, eliteSize, mutationRate):\n",
    "    start_time = time.time()\n",
    "    popRanked = rankRoutes(currentGen)\n",
    "    print(time.time() - start_time)\n",
    "    \n",
    "    start_time = time.time()\n",
    "    selectionResults = selection(popRanked, eliteSize)\n",
    "    print(time.time() - start_time)\n",
    "    \n",
    "    start_time = time.time()\n",
    "    matingpool = matingPool(currentGen, selectionResults)\n",
    "    print(time.time() - start_time)\n",
    "    \n",
    "    start_time = time.time()\n",
    "    children = breedPopulation(matingpool, eliteSize)\n",
    "    print(time.time() - start_time)\n",
    "    \n",
    "    start_time = time.time()\n",
    "    nextGeneration = mutatePopulation(children, mutationRate)\n",
    "    print(time.time() - start_time)\n",
    "    \n",
    "    return nextGeneration"
   ]
  },
  {
   "cell_type": "code",
   "execution_count": 13,
   "metadata": {},
   "outputs": [],
   "source": [
    "def geneticAlgorithm(population, popSize, eliteSize, mutationRate, generations):\n",
    "    pop = initialPopulation(popSize, population)\n",
    "    print(\"Initial distance: \" + str(1 / rankRoutes(pop)[0][1]))\n",
    "    \n",
    "    for i in range(0, generations):\n",
    "        pop = nextGeneration(pop, eliteSize, mutationRate)\n",
    "    \n",
    "    print(\"Final distance: \" + str(1 / rankRoutes(pop)[0][1]))\n",
    "    bestRouteIndex = rankRoutes(pop)[0][0]\n",
    "    bestRoute = pop[bestRouteIndex]\n",
    "    return bestRoute"
   ]
  },
  {
   "cell_type": "code",
   "execution_count": 14,
   "metadata": {},
   "outputs": [],
   "source": [
    "cityList = []\n",
    "\n",
    "for i in range(0,25):\n",
    "    cityList.append(City(x=int(random.random() * 200), y=int(random.random() * 200)))"
   ]
  },
  {
   "cell_type": "code",
   "execution_count": 21,
   "metadata": {},
   "outputs": [
    {
     "name": "stdout",
     "output_type": "stream",
     "text": [
      "[(93,199), (6,158), (27,70), (132,45), (180,132), (31,15), (69,106), (74,190), (22,38), (121,96), (174,94), (87,151), (5,30), (81,149), (19,124), (1,174), (62,191), (91,70), (133,82), (89,88), (96,80), (176,40), (136,100), (135,50), (35,2)]\n"
     ]
    }
   ],
   "source": [
    "print(cityList)"
   ]
  },
  {
   "cell_type": "markdown",
   "metadata": {},
   "source": [
    "# Load Cities"
   ]
  },
  {
   "cell_type": "code",
   "execution_count": 15,
   "metadata": {},
   "outputs": [],
   "source": [
    "df_cities = pd.read_csv('data/cities.csv')"
   ]
  },
  {
   "cell_type": "code",
   "execution_count": 16,
   "metadata": {},
   "outputs": [
    {
     "data": {
      "text/html": [
       "<div>\n",
       "<style>\n",
       "    .dataframe thead tr:only-child th {\n",
       "        text-align: right;\n",
       "    }\n",
       "\n",
       "    .dataframe thead th {\n",
       "        text-align: left;\n",
       "    }\n",
       "\n",
       "    .dataframe tbody tr th {\n",
       "        vertical-align: top;\n",
       "    }\n",
       "</style>\n",
       "<table border=\"1\" class=\"dataframe\">\n",
       "  <thead>\n",
       "    <tr style=\"text-align: right;\">\n",
       "      <th></th>\n",
       "      <th>CityId</th>\n",
       "      <th>X</th>\n",
       "      <th>Y</th>\n",
       "    </tr>\n",
       "  </thead>\n",
       "  <tbody>\n",
       "    <tr>\n",
       "      <th>0</th>\n",
       "      <td>0</td>\n",
       "      <td>316.836739</td>\n",
       "      <td>2202.340707</td>\n",
       "    </tr>\n",
       "    <tr>\n",
       "      <th>1</th>\n",
       "      <td>1</td>\n",
       "      <td>4377.405972</td>\n",
       "      <td>336.602082</td>\n",
       "    </tr>\n",
       "    <tr>\n",
       "      <th>2</th>\n",
       "      <td>2</td>\n",
       "      <td>3454.158198</td>\n",
       "      <td>2820.053011</td>\n",
       "    </tr>\n",
       "    <tr>\n",
       "      <th>3</th>\n",
       "      <td>3</td>\n",
       "      <td>4688.099298</td>\n",
       "      <td>2935.898056</td>\n",
       "    </tr>\n",
       "    <tr>\n",
       "      <th>4</th>\n",
       "      <td>4</td>\n",
       "      <td>1010.696952</td>\n",
       "      <td>3236.750989</td>\n",
       "    </tr>\n",
       "  </tbody>\n",
       "</table>\n",
       "</div>"
      ],
      "text/plain": [
       "   CityId            X            Y\n",
       "0       0   316.836739  2202.340707\n",
       "1       1  4377.405972   336.602082\n",
       "2       2  3454.158198  2820.053011\n",
       "3       3  4688.099298  2935.898056\n",
       "4       4  1010.696952  3236.750989"
      ]
     },
     "execution_count": 16,
     "metadata": {},
     "output_type": "execute_result"
    }
   ],
   "source": [
    "df_cities.head()"
   ]
  },
  {
   "cell_type": "code",
   "execution_count": 18,
   "metadata": {},
   "outputs": [],
   "source": [
    "cityList2 = []\n",
    "\n",
    "for i in range(0,df_cities.shape[0]):\n",
    "    cityList2.append(City(x=df_cities.iloc[i]['X'], y=df_cities.iloc[i]['Y']))"
   ]
  },
  {
   "cell_type": "code",
   "execution_count": 19,
   "metadata": {},
   "outputs": [],
   "source": [
    "def geneticAlgorithmPlot(population, popSize, eliteSize, mutationRate, generations):\n",
    "    pop = initialPopulation(popSize, population)\n",
    "    progress = []\n",
    "    progress.append(1 / rankRoutes(pop)[0][1])\n",
    "    \n",
    "    for i in range(0, generations):\n",
    "        pop = nextGeneration(pop, eliteSize, mutationRate)\n",
    "        progress.append(1 / rankRoutes(pop)[0][1])\n",
    "    \n",
    "    plt.plot(progress)\n",
    "    plt.ylabel('Distance')\n",
    "    plt.xlabel('Generation')\n",
    "    plt.show()"
   ]
  },
  {
   "cell_type": "code",
   "execution_count": 20,
   "metadata": {},
   "outputs": [
    {
     "name": "stdout",
     "output_type": "stream",
     "text": [
      "{0: 2.2541184095880788e-09, 1: 2.256513648628586e-09, 2: 2.258040601377229e-09, 3: 2.254769098201387e-09, 4: 2.2568357031792316e-09, 5: 2.260512669250521e-09, 6: 2.258653358789358e-09, 7: 2.2621473552107003e-09, 8: 2.2575310868161717e-09, 9: 2.2556463079829388e-09, 10: 2.2544421724914675e-09, 11: 2.2551000850025995e-09, 12: 2.256210511111834e-09, 13: 2.2556482571995443e-09, 14: 2.2578381801299053e-09, 15: 2.2568115133097015e-09, 16: 2.256602947163149e-09, 17: 2.2570585235052842e-09, 18: 2.2572770202280167e-09, 19: 2.258935996790294e-09, 20: 2.254036160151867e-09, 21: 2.2612880052941473e-09, 22: 2.258150158036624e-09, 23: 2.258953431584239e-09, 24: 2.2565063662659262e-09, 25: 2.2591958329957136e-09, 26: 2.256973343160751e-09, 27: 2.2544154336694425e-09, 28: 2.2555631765109713e-09, 29: 2.2553987441418625e-09, 30: 2.2582686484052854e-09, 31: 2.258761924611697e-09, 32: 2.2580066981176834e-09, 33: 2.2560256621516293e-09, 34: 2.2565708868591036e-09, 35: 2.2597542880596e-09, 36: 2.2565541134596493e-09, 37: 2.2604878839277877e-09, 38: 2.2583279604399914e-09, 39: 2.2544565628044182e-09, 40: 2.2551084227162056e-09, 41: 2.2549403199918666e-09, 42: 2.2556788109423507e-09, 43: 2.258307846591464e-09, 44: 2.2587257434480033e-09, 45: 2.259462599446186e-09, 46: 2.2564133415944627e-09, 47: 2.2640779369342637e-09, 48: 2.2579169662427744e-09, 49: 2.257793300388035e-09, 50: 2.259316197312352e-09, 51: 2.2593306030648283e-09, 52: 2.2576664989957455e-09, 53: 2.256985597390535e-09, 54: 2.261541358918547e-09, 55: 2.261345849952263e-09, 56: 2.255569825703164e-09, 57: 2.2553019639241034e-09, 58: 2.256305508377855e-09, 59: 2.257684223490234e-09, 60: 2.254139724898563e-09, 61: 2.2599779258386313e-09, 62: 2.2576975784784006e-09, 63: 2.2555347802023385e-09, 64: 2.2568616001594383e-09, 65: 2.259421875261647e-09, 66: 2.2571298961554775e-09, 67: 2.2599102729968444e-09, 68: 2.2580524794260905e-09, 69: 2.25759073436158e-09, 70: 2.262397315504899e-09, 71: 2.258805643985005e-09, 72: 2.2580171565115707e-09, 73: 2.2567641868507615e-09, 74: 2.262925895289722e-09, 75: 2.259149275686169e-09, 76: 2.2521413810933607e-09, 77: 2.2604662699915734e-09, 78: 2.2553800533663134e-09, 79: 2.255760990965325e-09, 80: 2.260248684158334e-09, 81: 2.2577097220728907e-09, 82: 2.2579104199777955e-09, 83: 2.2620113976774056e-09, 84: 2.258963439101925e-09, 85: 2.2551818610194472e-09, 86: 2.2565848780502872e-09, 87: 2.2619875329739326e-09, 88: 2.2581652063400734e-09, 89: 2.258555134065226e-09, 90: 2.2578967190907673e-09, 91: 2.2586705535468307e-09, 92: 2.2590606024296185e-09, 93: 2.2583522153557346e-09, 94: 2.255885897221305e-09, 95: 2.2559046744397376e-09, 96: 2.259230704867584e-09, 97: 2.2562180858167606e-09, 98: 2.2591923223092496e-09, 99: 2.254786055099044e-09}\n",
      "{0: 2.2541184095880788e-09, 1: 2.256513648628586e-09, 2: 2.258040601377229e-09, 3: 2.254769098201387e-09, 4: 2.2568357031792316e-09, 5: 2.260512669250521e-09, 6: 2.258653358789358e-09, 7: 2.2621473552107003e-09, 8: 2.2575310868161717e-09, 9: 2.2556463079829388e-09, 10: 2.2544421724914675e-09, 11: 2.2551000850025995e-09, 12: 2.256210511111834e-09, 13: 2.2556482571995443e-09, 14: 2.2578381801299053e-09, 15: 2.2568115133097015e-09, 16: 2.256602947163149e-09, 17: 2.2570585235052842e-09, 18: 2.2572770202280167e-09, 19: 2.258935996790294e-09, 20: 2.254036160151867e-09, 21: 2.2612880052941473e-09, 22: 2.258150158036624e-09, 23: 2.258953431584239e-09, 24: 2.2565063662659262e-09, 25: 2.2591958329957136e-09, 26: 2.256973343160751e-09, 27: 2.2544154336694425e-09, 28: 2.2555631765109713e-09, 29: 2.2553987441418625e-09, 30: 2.2582686484052854e-09, 31: 2.258761924611697e-09, 32: 2.2580066981176834e-09, 33: 2.2560256621516293e-09, 34: 2.2565708868591036e-09, 35: 2.2597542880596e-09, 36: 2.2565541134596493e-09, 37: 2.2604878839277877e-09, 38: 2.2583279604399914e-09, 39: 2.2544565628044182e-09, 40: 2.2551084227162056e-09, 41: 2.2549403199918666e-09, 42: 2.2556788109423507e-09, 43: 2.258307846591464e-09, 44: 2.2587257434480033e-09, 45: 2.259462599446186e-09, 46: 2.2564133415944627e-09, 47: 2.2640779369342637e-09, 48: 2.2579169662427744e-09, 49: 2.257793300388035e-09, 50: 2.259316197312352e-09, 51: 2.2593306030648283e-09, 52: 2.2576664989957455e-09, 53: 2.256985597390535e-09, 54: 2.261541358918547e-09, 55: 2.261345849952263e-09, 56: 2.255569825703164e-09, 57: 2.2553019639241034e-09, 58: 2.256305508377855e-09, 59: 2.257684223490234e-09, 60: 2.254139724898563e-09, 61: 2.2599779258386313e-09, 62: 2.2576975784784006e-09, 63: 2.2555347802023385e-09, 64: 2.2568616001594383e-09, 65: 2.259421875261647e-09, 66: 2.2571298961554775e-09, 67: 2.2599102729968444e-09, 68: 2.2580524794260905e-09, 69: 2.25759073436158e-09, 70: 2.262397315504899e-09, 71: 2.258805643985005e-09, 72: 2.2580171565115707e-09, 73: 2.2567641868507615e-09, 74: 2.262925895289722e-09, 75: 2.259149275686169e-09, 76: 2.2521413810933607e-09, 77: 2.2604662699915734e-09, 78: 2.2553800533663134e-09, 79: 2.255760990965325e-09, 80: 2.260248684158334e-09, 81: 2.2577097220728907e-09, 82: 2.2579104199777955e-09, 83: 2.2620113976774056e-09, 84: 2.258963439101925e-09, 85: 2.2551818610194472e-09, 86: 2.2565848780502872e-09, 87: 2.2619875329739326e-09, 88: 2.2581652063400734e-09, 89: 2.258555134065226e-09, 90: 2.2578967190907673e-09, 91: 2.2586705535468307e-09, 92: 2.2590606024296185e-09, 93: 2.2583522153557346e-09, 94: 2.255885897221305e-09, 95: 2.2559046744397376e-09, 96: 2.259230704867584e-09, 97: 2.2562180858167606e-09, 98: 2.2591923223092496e-09, 99: 2.254786055099044e-09}\n"
     ]
    },
    {
     "ename": "TypeError",
     "evalue": "'elapsed_time' is an invalid keyword argument for this function",
     "output_type": "error",
     "traceback": [
      "\u001b[0;31m---------------------------------------------------------------------------\u001b[0m",
      "\u001b[0;31mTypeError\u001b[0m                                 Traceback (most recent call last)",
      "\u001b[0;32m<ipython-input-20-7fe18ec7b07d>\u001b[0m in \u001b[0;36m<module>\u001b[0;34m()\u001b[0m\n\u001b[0;32m----> 1\u001b[0;31m \u001b[0mgeneticAlgorithmPlot\u001b[0m\u001b[0;34m(\u001b[0m\u001b[0mpopulation\u001b[0m\u001b[0;34m=\u001b[0m\u001b[0mcityList2\u001b[0m\u001b[0;34m,\u001b[0m \u001b[0mpopSize\u001b[0m\u001b[0;34m=\u001b[0m\u001b[0;36m100\u001b[0m\u001b[0;34m,\u001b[0m \u001b[0meliteSize\u001b[0m\u001b[0;34m=\u001b[0m\u001b[0;36m20\u001b[0m\u001b[0;34m,\u001b[0m \u001b[0mmutationRate\u001b[0m\u001b[0;34m=\u001b[0m\u001b[0;36m0.01\u001b[0m\u001b[0;34m,\u001b[0m \u001b[0mgenerations\u001b[0m\u001b[0;34m=\u001b[0m\u001b[0;36m1\u001b[0m\u001b[0;34m)\u001b[0m\u001b[0;34m\u001b[0m\u001b[0m\n\u001b[0m",
      "\u001b[0;32m<ipython-input-19-52b80ba106e9>\u001b[0m in \u001b[0;36mgeneticAlgorithmPlot\u001b[0;34m(population, popSize, eliteSize, mutationRate, generations)\u001b[0m\n\u001b[1;32m      5\u001b[0m \u001b[0;34m\u001b[0m\u001b[0m\n\u001b[1;32m      6\u001b[0m     \u001b[0;32mfor\u001b[0m \u001b[0mi\u001b[0m \u001b[0;32min\u001b[0m \u001b[0mrange\u001b[0m\u001b[0;34m(\u001b[0m\u001b[0;36m0\u001b[0m\u001b[0;34m,\u001b[0m \u001b[0mgenerations\u001b[0m\u001b[0;34m)\u001b[0m\u001b[0;34m:\u001b[0m\u001b[0;34m\u001b[0m\u001b[0m\n\u001b[0;32m----> 7\u001b[0;31m         \u001b[0mpop\u001b[0m \u001b[0;34m=\u001b[0m \u001b[0mnextGeneration\u001b[0m\u001b[0;34m(\u001b[0m\u001b[0mpop\u001b[0m\u001b[0;34m,\u001b[0m \u001b[0meliteSize\u001b[0m\u001b[0;34m,\u001b[0m \u001b[0mmutationRate\u001b[0m\u001b[0;34m)\u001b[0m\u001b[0;34m\u001b[0m\u001b[0m\n\u001b[0m\u001b[1;32m      8\u001b[0m         \u001b[0mprogress\u001b[0m\u001b[0;34m.\u001b[0m\u001b[0mappend\u001b[0m\u001b[0;34m(\u001b[0m\u001b[0;36m1\u001b[0m \u001b[0;34m/\u001b[0m \u001b[0mrankRoutes\u001b[0m\u001b[0;34m(\u001b[0m\u001b[0mpop\u001b[0m\u001b[0;34m)\u001b[0m\u001b[0;34m[\u001b[0m\u001b[0;36m0\u001b[0m\u001b[0;34m]\u001b[0m\u001b[0;34m[\u001b[0m\u001b[0;36m1\u001b[0m\u001b[0;34m]\u001b[0m\u001b[0;34m)\u001b[0m\u001b[0;34m\u001b[0m\u001b[0m\n\u001b[1;32m      9\u001b[0m \u001b[0;34m\u001b[0m\u001b[0m\n",
      "\u001b[0;32m<ipython-input-12-d1f21d2c07a0>\u001b[0m in \u001b[0;36mnextGeneration\u001b[0;34m(currentGen, eliteSize, mutationRate)\u001b[0m\n\u001b[1;32m      2\u001b[0m     \u001b[0mstart_time\u001b[0m \u001b[0;34m=\u001b[0m \u001b[0mtime\u001b[0m\u001b[0;34m.\u001b[0m\u001b[0mtime\u001b[0m\u001b[0;34m(\u001b[0m\u001b[0;34m)\u001b[0m\u001b[0;34m\u001b[0m\u001b[0m\n\u001b[1;32m      3\u001b[0m     \u001b[0mpopRanked\u001b[0m \u001b[0;34m=\u001b[0m \u001b[0mrankRoutes\u001b[0m\u001b[0;34m(\u001b[0m\u001b[0mcurrentGen\u001b[0m\u001b[0;34m)\u001b[0m\u001b[0;34m\u001b[0m\u001b[0m\n\u001b[0;32m----> 4\u001b[0;31m     \u001b[0mprint\u001b[0m\u001b[0;34m(\u001b[0m\u001b[0melapsed_time\u001b[0m \u001b[0;34m=\u001b[0m \u001b[0mtime\u001b[0m\u001b[0;34m.\u001b[0m\u001b[0mtime\u001b[0m\u001b[0;34m(\u001b[0m\u001b[0;34m)\u001b[0m \u001b[0;34m-\u001b[0m \u001b[0mstart_time\u001b[0m\u001b[0;34m)\u001b[0m\u001b[0;34m\u001b[0m\u001b[0m\n\u001b[0m\u001b[1;32m      5\u001b[0m \u001b[0;34m\u001b[0m\u001b[0m\n\u001b[1;32m      6\u001b[0m     \u001b[0mstart_time\u001b[0m \u001b[0;34m=\u001b[0m \u001b[0mtime\u001b[0m\u001b[0;34m.\u001b[0m\u001b[0mtime\u001b[0m\u001b[0;34m(\u001b[0m\u001b[0;34m)\u001b[0m\u001b[0;34m\u001b[0m\u001b[0m\n",
      "\u001b[0;31mTypeError\u001b[0m: 'elapsed_time' is an invalid keyword argument for this function"
     ]
    }
   ],
   "source": [
    "geneticAlgorithmPlot(population=cityList2, popSize=100, eliteSize=20, mutationRate=0.01, generations=1)"
   ]
  },
  {
   "cell_type": "code",
   "execution_count": null,
   "metadata": {},
   "outputs": [],
   "source": []
  },
  {
   "cell_type": "code",
   "execution_count": null,
   "metadata": {},
   "outputs": [],
   "source": []
  }
 ],
 "metadata": {
  "kernelspec": {
   "display_name": "Python 3",
   "language": "python",
   "name": "python3"
  },
  "language_info": {
   "codemirror_mode": {
    "name": "ipython",
    "version": 3
   },
   "file_extension": ".py",
   "mimetype": "text/x-python",
   "name": "python",
   "nbconvert_exporter": "python",
   "pygments_lexer": "ipython3",
   "version": "3.6.2"
  }
 },
 "nbformat": 4,
 "nbformat_minor": 2
}
